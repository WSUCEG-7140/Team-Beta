# step 1

import pandas as pd
import matplotlib.pyplot as plt

df = pd.read_csv("merged_file.csv") # your  IQ data file name


df.head()


df = df[["Question", "Option 1", "Option 2", "Option 3", "Option 4", "Correct Answer"]]
df.head()

df.info()

df['Question'].value_counts()

--------------------------------------------------------------

# Step 2: Preprocess the data
import re

# Remove HTML encodings
def clean_html(text):
    clean = re.compile('<.*?>')
    return re.sub(clean, '', text)

df['Question'] = df['Question'].apply(clean_html)
df['Options'] = df['Options'].apply(clean_html)
df['Correct Answer'] = df['Correct Answer'].apply(clean_html)

# Remove commas and question marks
def remove_punctuation(text):
    return re.sub('[,?]', '', text)

df['Question'] = df['Question'].apply(remove_punctuation)
df['Options'] = df['Options'].apply(remove_punctuation)
df['Correct Answer'] = df['Correct Answer'].apply(remove_punctuation)

# Separate features and target
X = df[['Question', 'Options']]
y = df['Correct Answer']

print(df.columns)

--------------------------------------------------------------

Step-3 Training


# #for testing purpose only##

# from sklearn.ensemble import RandomForestClassifier
# from sklearn.feature_extraction.text import CountVectorizer
# from sklearn.metrics import accuracy_score
# from sklearn.model_selection import GridSearchCV, train_test_split
# import pandas as pd

# # Concatenate all feature columns into a single string
# df['text'] = df['Question'] + ' ' + df['Options']

# # Separate features and target
# X = df['text']
# y = df['Correct Answer']

# # Split the data into training and testing sets
# X_train, X_test, y_train, y_test = train_test_split(X, y, test_size=0.2, random_state=42)

# # Create a CountVectorizer to convert text into a bag-of-words representation
# vectorizer = CountVectorizer()

# # Fit the vectorizer to the training data and transform both the training and testing data
# X_train_bow = vectorizer.fit_transform(X_train)
# X_test_bow = vectorizer.transform(X_test)

# # Create a random forest classifier
# # Create a random forest classifier with the best hyperparameters
# rf = RandomForestClassifier(n_estimators=50, max_depth=15, min_samples_split=2)


# # Define a range of hyperparameters to search over
# param_grid = {
#     'n_estimators': [50, 100, 150],
#     'max_depth': [5, 10, 15],
#     'min_samples_split': [2, 5, 10]
# }

# # Use grid search with cross-validation to find the best hyperparameters
# grid_search = GridSearchCV(rf, param_grid, cv=5)
# grid_search.fit(X_train_bow, y_train)

# # Print the best hyperparameters and their corresponding accuracy score
# print("Best hyperparameters: ", grid_search.best_params_)
# print("Best accuracy score: ", grid_search.best_score_)

# # Use the best estimator to make predictions on the testing data
# best_estimator = grid_search.best_estimator_
# y_pred = best_estimator.predict(X_test_bow)

# # Calculate the accuracy score
# accuracy = accuracy_score(y_test, y_pred)
# print(f'Test accuracy: {accuracy}')

from sklearn.feature_extraction.text import CountVectorizer
from sklearn.tree import DecisionTreeClassifier
from sklearn.metrics import accuracy_score
from sklearn.model_selection import train_test_split
import pandas as pd

# Concatenate all feature columns into a single string
df['text'] = df['Question'] + ' ' + df['Options']

# Separate features and target
X = df['text']
y = df['Correct Answer']

# Split the data into training and testing sets
X_train, X_test, y_train, y_test = train_test_split(X, y, test_size=0.2, random_state=42)

# Create a CountVectorizer to convert text into a bag-of-words representation
vectorizer = CountVectorizer()

# Fit the vectorizer to the training data and transform both the training and testing data
X_train_bow = vectorizer.fit_transform(X_train)
X_test_bow = vectorizer.transform(X_test)

# Create a decision tree classifier with max depth 5
tree = DecisionTreeClassifier(max_depth=5)

# Train the model
tree.fit(X_train_bow, y_train)

# Make predictions on the testing data
y_pred = tree.predict(X_test_bow)

# Calculate the accuracy score
accuracy = accuracy_score(y_test, y_pred)
print(f'Test accuracy: {accuracy}')

from sklearn.ensemble import RandomForestClassifier

# Create a Random Forest classifier with 100 trees
forest = RandomForestClassifier(n_estimators=100)

# Train the model
forest.fit(X_train_bow, y_train)

# Make predictions on the testing data
y_pred = forest.predict(X_test_bow)

# Calculate the accuracy score
accuracy = accuracy_score(y_test, y_pred)
print(f'Test accuracy: {accuracy}')

